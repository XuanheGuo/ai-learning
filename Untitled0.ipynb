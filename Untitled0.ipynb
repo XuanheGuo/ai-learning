{
  "nbformat": 4,
  "nbformat_minor": 0,
  "metadata": {
    "colab": {
      "provenance": [],
      "toc_visible": true
    },
    "kernelspec": {
      "name": "python3",
      "display_name": "Python 3"
    },
    "language_info": {
      "name": "python"
    }
  },
  "cells": [
    {
      "cell_type": "code",
      "source": [
        "import torch\n",
        "import torch.nn as nn\n",
        "import torch.optim as optim\n",
        "\n",
        "# 1. 准备数据（y = 2x + 3）\n",
        "x_train = torch.tensor([[1.0], [2.0], [3.0], [4.0]])\n",
        "y_train = torch.tensor([[5.0], [7.0], [9.0], [11.0]])\n",
        "\n",
        "# 2. 定义模型（1 输入 → 1 输出的全连接层）\n",
        "model = nn.Sequential(\n",
        "    nn.Linear(1, 1)  # y = wx + b\n",
        ")\n",
        "\n",
        "# 3. 损失函数（均方误差 MSE）\n",
        "loss_fn = nn.MSELoss()\n",
        "\n",
        "# 4. 优化器（随机梯度下降，学习率 0.01）\n",
        "optimizer = optim.SGD(model.parameters(), lr=0.01)\n",
        "\n",
        "# 5. 训练循环\n",
        "for epoch in range(1000):\n",
        "    # 前向传播\n",
        "    y_pred = model(x_train)\n",
        "    # 计算损失\n",
        "    loss = loss_fn(y_pred, y_train)\n",
        "\n",
        "    # 梯度清零（防止累加）\n",
        "    optimizer.zero_grad()\n",
        "    # 反向传播\n",
        "    loss.backward()\n",
        "    # 参数更新\n",
        "    optimizer.step()\n",
        "\n",
        "    # 每100轮打印一次损失\n",
        "    if epoch % 100 == 0:\n",
        "        print(f\"Epoch {epoch}: loss = {loss.item():.4f}\")\n",
        "\n",
        "# 6. 测试模型\n",
        "x_test = torch.tensor([[5.0]])\n",
        "print(\"预测结果:\", model(x_test).item())"
      ],
      "metadata": {
        "colab": {
          "base_uri": "https://localhost:8080/"
        },
        "id": "IzdolDJqWa5Y",
        "outputId": "046b30e8-de3a-4684-9b7a-67289be5a042"
      },
      "execution_count": 1,
      "outputs": [
        {
          "output_type": "stream",
          "name": "stdout",
          "text": [
            "Epoch 0: loss = 75.2194\n",
            "Epoch 100: loss = 0.1464\n",
            "Epoch 200: loss = 0.0804\n",
            "Epoch 300: loss = 0.0441\n",
            "Epoch 400: loss = 0.0242\n",
            "Epoch 500: loss = 0.0133\n",
            "Epoch 600: loss = 0.0073\n",
            "Epoch 700: loss = 0.0040\n",
            "Epoch 800: loss = 0.0022\n",
            "Epoch 900: loss = 0.0012\n",
            "预测结果: 13.044143676757812\n"
          ]
        }
      ]
    }
  ]
}